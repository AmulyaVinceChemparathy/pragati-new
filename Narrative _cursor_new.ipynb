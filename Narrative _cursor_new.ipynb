{
 "cells": [
  {
   "cell_type": "code",
   "execution_count": 3,
   "metadata": {},
   "outputs": [
    {
     "name": "stdout",
     "output_type": "stream",
     "text": [
      "Narrative Cursor - Text to Speech\n"
     ]
    },
    {
     "ename": "PermissionError",
     "evalue": "[WinError 5] Access is denied: 'C:\\\\Users\\\\USER'",
     "output_type": "error",
     "traceback": [
      "\u001b[1;31m---------------------------------------------------------------------------\u001b[0m",
      "\u001b[1;31mPermissionError\u001b[0m                           Traceback (most recent call last)",
      "Cell \u001b[1;32mIn[3], line 76\u001b[0m\n\u001b[0;32m     74\u001b[0m keyboard\u001b[38;5;241m.\u001b[39mpress_and_release(\u001b[38;5;124m\"\u001b[39m\u001b[38;5;124menter\u001b[39m\u001b[38;5;124m\"\u001b[39m)\n\u001b[0;32m     75\u001b[0m time\u001b[38;5;241m.\u001b[39msleep(\u001b[38;5;241m1\u001b[39m)\n\u001b[1;32m---> 76\u001b[0m \u001b[43mcapture_and_read_specific_region\u001b[49m\u001b[43m(\u001b[49m\u001b[43m)\u001b[49m\n",
      "Cell \u001b[1;32mIn[3], line 35\u001b[0m, in \u001b[0;36mcapture_and_read_specific_region\u001b[1;34m()\u001b[0m\n\u001b[0;32m     32\u001b[0m \u001b[38;5;28;01mdef\u001b[39;00m \u001b[38;5;21mcapture_and_read_specific_region\u001b[39m():\n\u001b[0;32m     33\u001b[0m     \u001b[38;5;66;03m# Ensure the \"NC_images\" folder exists\u001b[39;00m\n\u001b[0;32m     34\u001b[0m     \u001b[38;5;28;01mif\u001b[39;00m \u001b[38;5;129;01mnot\u001b[39;00m os\u001b[38;5;241m.\u001b[39mpath\u001b[38;5;241m.\u001b[39mexists(nc_images_path):\n\u001b[1;32m---> 35\u001b[0m         \u001b[43mos\u001b[49m\u001b[38;5;241;43m.\u001b[39;49m\u001b[43mmakedirs\u001b[49m\u001b[43m(\u001b[49m\u001b[43mnc_images_path\u001b[49m\u001b[43m)\u001b[49m\n\u001b[0;32m     37\u001b[0m     \u001b[38;5;66;03m# Pause for a moment to switch to the desired window\u001b[39;00m\n\u001b[0;32m     38\u001b[0m     time\u001b[38;5;241m.\u001b[39msleep(\u001b[38;5;241m3\u001b[39m)  \u001b[38;5;66;03m# Adjust this time as needed\u001b[39;00m\n",
      "File \u001b[1;32m<frozen os>:215\u001b[0m, in \u001b[0;36mmakedirs\u001b[1;34m(name, mode, exist_ok)\u001b[0m\n",
      "File \u001b[1;32m<frozen os>:215\u001b[0m, in \u001b[0;36mmakedirs\u001b[1;34m(name, mode, exist_ok)\u001b[0m\n",
      "File \u001b[1;32m<frozen os>:225\u001b[0m, in \u001b[0;36mmakedirs\u001b[1;34m(name, mode, exist_ok)\u001b[0m\n",
      "\u001b[1;31mPermissionError\u001b[0m: [WinError 5] Access is denied: 'C:\\\\Users\\\\USER'"
     ]
    }
   ],
   "source": [
    "import os\n",
    "import pyttsx3\n",
    "from PIL import ImageGrab\n",
    "import pytesseract\n",
    "import cv2\n",
    "import time\n",
    "import keyboard\n",
    "import pygetwindow as gw\n",
    "\n",
    "\n",
    "# Initialize the text-to-speech engine\n",
    "engine = pyttsx3.init()\n",
    "\n",
    "# Configure the text-to-speech engine\n",
    "engine.setProperty('rate', 200)  # Speed of speech\n",
    "\n",
    "# Set the path to Tesseract OCR executable (you may need to change this)\n",
    "tesseract_path = r'C:\\Users\\USER\\AI_ML_DL Programs & Codes'\n",
    "pytesseract.pytesseract.tesseract_cmd = os.path.join(tesseract_path, 'tesseract.exe')\n",
    "\n",
    "# Set the path to the \"NC_images\" folder\n",
    "nc_images_path = os.path.join(tesseract_path, 'NC_images')\n",
    "\n",
    "# Function to perform OCR on the selected region and read the text aloud\n",
    "def read_text(selected_region):\n",
    "    text = pytesseract.image_to_string(selected_region)\n",
    "    print(\"Detected Text: \", text)\n",
    "    engine.say(text)\n",
    "    engine.runAndWait()\n",
    "\n",
    "# Function to capture a specific region in the active window and call the read_text function\n",
    "def capture_and_read_specific_region():\n",
    "    # Ensure the \"NC_images\" folder exists\n",
    "    if not os.path.exists(nc_images_path):\n",
    "        os.makedirs(nc_images_path)\n",
    "\n",
    "    # Pause for a moment to switch to the desired window\n",
    "    time.sleep(3)  # Adjust this time as needed\n",
    "\n",
    "    # Get the active window\n",
    "    active_window = gw.getActiveWindow()\n",
    "\n",
    "    # Define the specific region coordinates\n",
    "    region_left = 600\n",
    "    region_top = active_window.height - 52 - 850  # 52 pixels above the bottom edge\n",
    "    region_width = 720\n",
    "    region_height = 890\n",
    "\n",
    "    # Set the bounding box to capture the specific region\n",
    "    selected_region = (active_window.left + region_left,\n",
    "                       active_window.top + region_top,\n",
    "                       active_window.left + region_left + region_width,\n",
    "                       active_window.top + region_top + region_height)\n",
    "\n",
    "    # Save the screenshot in the \"NC_images\" folder with a unique name\n",
    "    screenshot_path = os.path.join(nc_images_path, f\"screenshot_{len(os.listdir(nc_images_path)) + 1}.png\")\n",
    "    screenshot = ImageGrab.grab(bbox=selected_region)\n",
    "    screenshot.save(screenshot_path)\n",
    "\n",
    "    # Read the screenshot image\n",
    "    screenshot = cv2.imread(screenshot_path)\n",
    "\n",
    "    # Perform OCR on the selected region\n",
    "    read_text(screenshot)\n",
    "\n",
    "# Example usage\n",
    "if __name__ == \"__main__\":\n",
    "    print(\"Narrative Cursor - Text to Speech\")\n",
    "\n",
    "    input(\"Press Enter to start capturing and reading the specific region in the active window:\")\n",
    "\n",
    "    while True:\n",
    "        # Simulate pressing Enter every second (adjust as needed)\n",
    "        keyboard.press_and_release(\"enter\")\n",
    "        time.sleep(1)\n",
    "        capture_and_read_specific_region()"
   ]
  }
 ],
 "metadata": {
  "kernelspec": {
   "display_name": "Python 3",
   "language": "python",
   "name": "python3"
  },
  "language_info": {
   "codemirror_mode": {
    "name": "ipython",
    "version": 3
   },
   "file_extension": ".py",
   "mimetype": "text/x-python",
   "name": "python",
   "nbconvert_exporter": "python",
   "pygments_lexer": "ipython3",
   "version": "3.12.0"
  }
 },
 "nbformat": 4,
 "nbformat_minor": 2
}
